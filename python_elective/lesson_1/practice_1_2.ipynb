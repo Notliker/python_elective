{
 "cells": [
  {
   "cell_type": "code",
   "execution_count": 2,
   "id": "9e93759c-a003-4430-931d-be674fb72ad7",
   "metadata": {},
   "outputs": [
    {
     "name": "stdin",
     "output_type": "stream",
     "text": [
      " -1\n"
     ]
    },
    {
     "name": "stdout",
     "output_type": "stream",
     "text": [
      "Incorrect input\n",
      "-3\n"
     ]
    }
   ],
   "source": [
    "####################################################\n",
    "#\n",
    "#\n",
    "##########  PRACTICE 1.2 ########################\n",
    "#\n",
    "#\n",
    "######################################################\n",
    "\n",
    "##### LESS|MORE IF-ELSE\n",
    "\n",
    "\n",
    "a = int(input())\n",
    "\n",
    "if a >= 0:\n",
    "    print(\"Correct input\")\n",
    "    a += 2\n",
    "else:\n",
    "    print(\"Incorrect input\")\n",
    "    a -= 2\n",
    "\n",
    "print(a)\n"
   ]
  },
  {
   "cell_type": "code",
   "execution_count": 3,
   "id": "1550608d-5861-4d64-98fb-b3894d325bf1",
   "metadata": {},
   "outputs": [
    {
     "name": "stdin",
     "output_type": "stream",
     "text": [
      " 1\n",
      " 2\n",
      " 3\n"
     ]
    },
    {
     "name": "stdout",
     "output_type": "stream",
     "text": [
      "a is MIN value\n"
     ]
    }
   ],
   "source": [
    "'''\n",
    "########## MIN NUMBER ######\n",
    "\n",
    "'''\n",
    "a = int(input())\n",
    "b = int(input())\n",
    "c = int(input())\n",
    "\n",
    "\n",
    "if (a < b) and (a < c):\n",
    "    print(\"a is MIN value\")\n",
    "elif (b < a) and (b < c):\n",
    "    print(\"b is MIN value\")\n",
    "else:\n",
    "    print(\"c is MIN value\")\n"
   ]
  },
  {
   "cell_type": "code",
   "execution_count": 6,
   "id": "89511d75-65eb-4a50-91c7-35667d29b037",
   "metadata": {},
   "outputs": [
    {
     "name": "stdout",
     "output_type": "stream",
     "text": [
      "THE NUMBER IS 3?\n"
     ]
    },
    {
     "name": "stdin",
     "output_type": "stream",
     "text": [
      " 0\n"
     ]
    },
    {
     "name": "stdout",
     "output_type": "stream",
     "text": [
      "THE NUMBER IS  MORE THAN 3?\n"
     ]
    },
    {
     "name": "stdin",
     "output_type": "stream",
     "text": [
      " 1\n"
     ]
    },
    {
     "name": "stdout",
     "output_type": "stream",
     "text": [
      "THE NUMBER IS 4?\n"
     ]
    },
    {
     "name": "stdin",
     "output_type": "stream",
     "text": [
      " 0\n"
     ]
    },
    {
     "name": "stdout",
     "output_type": "stream",
     "text": [
      "THE NUMBER IS 5! THE GAME IS FINISHED!\n"
     ]
    }
   ],
   "source": [
    "'''\n",
    "\n",
    "########## WHAT A NUMBER? ######\n",
    "\n",
    "'''\n",
    "finished_str = \"GOOD JOB! THE GAME IS FINISHED!\"\n",
    "template_str = \"THE NUMBER IS {}! THE GAME IS FINISHED!\"\n",
    "\n",
    "num_eq_str = \"THE NUMBER IS {}?\"\n",
    "\n",
    "print(num_eq_str.format(3))\n",
    "answer = int(input())\n",
    "\n",
    "if answer:\n",
    "    print(finished_str)\n",
    "else:\n",
    "    print(\"THE NUMBER IS  MORE THAN 3?\")\n",
    "    answer = int(input())\n",
    "    if answer:\n",
    "        print(num_eq_str.format(4))\n",
    "        answer = int(input())\n",
    "\n",
    "        if answer:\n",
    "            print(finished_str)\n",
    "        else:\n",
    "            print(template_str.format(5))\n",
    "    else:\n",
    "\n",
    "        print(num_eq_str.format(1))\n",
    "        answer = int(input())\n",
    "\n",
    "        if answer:\n",
    "            print(finished_str)\n",
    "        else:\n",
    "            print(template_str.format(2))\n"
   ]
  },
  {
   "cell_type": "code",
   "execution_count": null,
   "id": "d1d0467f-13dc-4d31-95e2-f9dbfb16790d",
   "metadata": {},
   "outputs": [],
   "source": []
  }
 ],
 "metadata": {
  "kernelspec": {
   "display_name": "Python 3 (ipykernel)",
   "language": "python",
   "name": "python3"
  },
  "language_info": {
   "codemirror_mode": {
    "name": "ipython",
    "version": 3
   },
   "file_extension": ".py",
   "mimetype": "text/x-python",
   "name": "python",
   "nbconvert_exporter": "python",
   "pygments_lexer": "ipython3",
   "version": "3.12.8"
  }
 },
 "nbformat": 4,
 "nbformat_minor": 5
}
