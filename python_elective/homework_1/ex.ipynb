{
 "cells": [
  {
   "cell_type": "markdown",
   "id": "e76bbf89",
   "metadata": {},
   "source": [
    "# Задача 1.1"
   ]
  },
  {
   "cell_type": "code",
   "execution_count": null,
   "id": "bf985f09",
   "metadata": {},
   "outputs": [
    {
     "name": "stdout",
     "output_type": "stream",
     "text": [
      "Sum of two numbers: 5\n",
      "Sum of two numbers: 58\n",
      "Sum of two numbers: 367\n",
      "Sum of two numbers: -108\n",
      "Sum of two numbers: 0\n"
     ]
    }
   ],
   "source": [
    "while True:\n",
    "    a = int(input())\n",
    "    b = int(input())\n",
    "    print(f\"Sum of two numbers: {a+b}\")"
   ]
  },
  {
   "cell_type": "markdown",
   "id": "32d4b71c",
   "metadata": {},
   "source": [
    "# Задача 1.2"
   ]
  },
  {
   "cell_type": "code",
   "execution_count": 5,
   "id": "5d471375",
   "metadata": {},
   "outputs": [
    {
     "name": "stdout",
     "output_type": "stream",
     "text": [
      "* 1 * 2 *\n",
      "3 * 4 * 5\n",
      "* 6 * 7 *\n",
      "8 * 9 * 10\n",
      "* 11 * 12 *\n"
     ]
    }
   ],
   "source": [
    "const = 1\n",
    "star = True\n",
    "res = [[0 for j in range(5)] for i in range(5)]\n",
    "\n",
    "for i in range(5):\n",
    "    for j in range(5):\n",
    "        if star==True:\n",
    "            res[i][j]='*'\n",
    "            star = False\n",
    "        else:\n",
    "            res[i][j]=const\n",
    "            const+=1\n",
    "            star=True\n",
    "for i in res:\n",
    "    print(*i)"
   ]
  },
  {
   "cell_type": "markdown",
   "id": "a60eab3f",
   "metadata": {},
   "source": [
    "# Задача 1.3"
   ]
  },
  {
   "cell_type": "code",
   "execution_count": null,
   "id": "675f2a6c",
   "metadata": {},
   "outputs": [
    {
     "name": "stdout",
     "output_type": "stream",
     "text": [
      "Congratulations!\n"
     ]
    }
   ],
   "source": [
    "num = int(input())\n",
    "l = int(input())\n",
    "r = int(input())\n",
    "\n",
    "while l <= r:\n",
    "    mid = (l + r) // 2\n",
    "    answer = input(f\"Число равно {mid}?\")\n",
    "    \n",
    "    if answer == 'да':\n",
    "        print('Поздравляю!')\n",
    "        break\n",
    "    else:\n",
    "        s = input(f\"Число меньше {mid}?\")\n",
    "        if s == 'да':\n",
    "            r = mid - 1\n",
    "        else:\n",
    "            l = mid + 1\n",
    "else:\n",
    "    print(\"Число не входит в диапазон\")"
   ]
  },
  {
   "cell_type": "markdown",
   "id": "e0d3f93d",
   "metadata": {},
   "source": [
    "# Задача 1.4"
   ]
  },
  {
   "cell_type": "code",
   "execution_count": 14,
   "id": "9b1b7380",
   "metadata": {},
   "outputs": [
    {
     "name": "stdout",
     "output_type": "stream",
     "text": [
      "5\n"
     ]
    }
   ],
   "source": [
    "nums = []\n",
    "while True:\n",
    "    nums.append(int(input()))\n",
    "    if 0 in nums:\n",
    "        break\n",
    "print(max(nums))"
   ]
  },
  {
   "cell_type": "markdown",
   "id": "93cfb747",
   "metadata": {},
   "source": [
    "# Задача 1.5"
   ]
  },
  {
   "cell_type": "code",
   "execution_count": 18,
   "id": "3083b96e",
   "metadata": {},
   "outputs": [
    {
     "name": "stdout",
     "output_type": "stream",
     "text": [
      "1 2 3 4 5 6 7 8 9\n",
      "2 4 6 8 10 12 14 16 18\n",
      "3 6 9 12 15 18 21 24 27\n",
      "4 8 12 16 20 24 28 32 36\n",
      "5 10 15 20 25 30 35 40 45\n",
      "6 12 18 24 30 36 42 48 54\n",
      "7 14 21 28 35 42 49 56 63\n",
      "8 16 24 32 40 48 56 64 72\n",
      "9 18 27 36 45 54 63 72 81\n"
     ]
    }
   ],
   "source": [
    "res = [[i*j for j in range(1, 10)] for i in range(1, 10)]\n",
    "for stroka in res:\n",
    "    print(*stroka)\n"
   ]
  },
  {
   "cell_type": "markdown",
   "id": "2dd4e73f",
   "metadata": {},
   "source": [
    "# Задача 2.1"
   ]
  },
  {
   "cell_type": "code",
   "execution_count": 23,
   "id": "d07393f6",
   "metadata": {},
   "outputs": [
    {
     "name": "stdout",
     "output_type": "stream",
     "text": [
      "34 12 49 44 1 41 12 41 28 40 25 7 2 49 46 37 24 15 19\n",
      "Maximum: 49 \n",
      " Minimum: 1 \n",
      " Median: 40\n"
     ]
    }
   ],
   "source": [
    "import random\n",
    "arr = [random.randint(0, 50) for _ in range(random.randint(0, 20))]\n",
    "minim = min(arr)\n",
    "maxim = max(arr)\n",
    "s_arr = sorted(arr)\n",
    "if len(arr)%2==0:\n",
    "    median = (arr[len(arr)//2]+arr[len(arr)//2-1])/2\n",
    "else:\n",
    "    median = arr[len(arr)//2]\n",
    "print(*arr)\n",
    "print(f\"Maximum: {maxim} \\n Minimum: {minim} \\n Median: {median}\")"
   ]
  },
  {
   "cell_type": "markdown",
   "id": "a83a3687",
   "metadata": {},
   "source": [
    "# Задача 2.2"
   ]
  },
  {
   "cell_type": "code",
   "execution_count": 2,
   "id": "6971af55",
   "metadata": {},
   "outputs": [
    {
     "name": "stdout",
     "output_type": "stream",
     "text": [
      "Исходный список:\n",
      "[5, 21, 40, 92, 75, 1, 31, 96, 49, 34, 31, 95, 2, 89, 69, 74, 19, 4, 5, 91]\n",
      "==================================================\n",
      "1й бин: *****\n",
      "2й бин: *\n",
      "3й бин: *\n",
      "4й бин: ***\n",
      "5й бин: **\n",
      "6й бин: \n",
      "7й бин: *\n",
      "8й бин: **\n",
      "9й бин: *\n",
      "10й бин: ****\n",
      "==================================================\n",
      "Вероятности: \n",
      "1й бин: 0.25\n",
      "2й бин: 0.05\n",
      "3й бин: 0.05\n",
      "4й бин: 0.15\n",
      "5й бин: 0.1\n",
      "6й бин: 0.0\n",
      "7й бин: 0.05\n",
      "8й бин: 0.1\n",
      "9й бин: 0.05\n",
      "10й бин: 0.2\n"
     ]
    }
   ],
   "source": [
    "import random\n",
    "\n",
    "numbers = [random.randint(0, 100) for _ in range(20)]\n",
    "print(\"Исходный список:\")\n",
    "print(numbers)\n",
    "print(\"=\"*50)\n",
    "\n",
    "histogram = [\"\"] * 10\n",
    "for num in numbers:\n",
    "    if num!=100:\n",
    "        histogram[num//10]+=\"*\"\n",
    "    else:\n",
    "        histogram[-1]+=\"*\"\n",
    "\n",
    "for i in range(len(histogram)):\n",
    "    print(f\"{i+1}й бин:\",histogram[i])\n",
    "\n",
    "probabilities = [len(count) / len(numbers) for count in histogram]\n",
    "\n",
    "print(\"=\"*50)\n",
    "print(\"Вероятности: \")\n",
    "for i in range(len(probabilities)):\n",
    "    print(f\"{i+1}й бин:\",probabilities[i])"
   ]
  },
  {
   "cell_type": "markdown",
   "id": "0244589f",
   "metadata": {},
   "source": [
    "# Задача 2.3"
   ]
  },
  {
   "cell_type": "code",
   "execution_count": 33,
   "id": "eec34aa0",
   "metadata": {},
   "outputs": [
    {
     "name": "stdout",
     "output_type": "stream",
     "text": [
      "Вектор 1: \n",
      " [-1, -4, 2, 8, 4]\n",
      "Вектор 2: \n",
      " [6, 10, -1, -8, -4]\n",
      "Покомпонентная сумма: \n",
      " [5, 6, 1, 0, 0]\n",
      "Покомпонентное умножение: \n",
      " [-6, -40, -2, -64, -16]\n",
      "У вектора 2 бОльшая норма\n",
      "Результат умножения на скаляр:\n",
      " [12, 20, -2, -16, -8]\n"
     ]
    }
   ],
   "source": [
    "import random\n",
    "\n",
    "def vec_norm(vec):\n",
    "    res = []\n",
    "    for elem in vec:\n",
    "        res.append(elem**2)\n",
    "    return sum(res)**(1/2)\n",
    "\n",
    "N = int(input(\"Введите размерность векторов: \"))\n",
    "\n",
    "vec1 = [random.randint(-10, 10) for _ in range(N)]\n",
    "vec2 = [random.randint(-10, 10) for _ in range(N)]\n",
    "print(\"Вектор 1: \\n\",vec1)\n",
    "print(\"Вектор 2: \\n\",vec2)\n",
    "sum_vec = [0]*N\n",
    "mul_vec = sum_vec.copy()\n",
    "for i in range(N):\n",
    "    sum_vec[i]=vec1[i]+vec2[i]\n",
    "    mul_vec[i]=vec1[i]*vec2[i]\n",
    "print(\"Покомпонентная сумма: \\n\", sum_vec)\n",
    "print(\"Покомпонентное умножение: \\n\", mul_vec)\n",
    "vec1_n = vec_norm(vec1)\n",
    "vec2_n = vec_norm(vec2)\n",
    "if vec1_n > vec1_n:\n",
    "    m_vec = vec1\n",
    "    print(\"У вектора 1 бОльшая норма\")\n",
    "else:\n",
    "    m_vec = vec2\n",
    "    print(\"У вектора 2 бОльшая норма\")\n",
    "scalar = int(input(\"Введите скаляр для умножения: \"))\n",
    "\n",
    "for i in range(N):\n",
    "    m_vec[i]*=scalar\n",
    "print(\"Результат умножения на скаляр:\\n\", m_vec)"
   ]
  },
  {
   "cell_type": "markdown",
   "id": "e169188b",
   "metadata": {},
   "source": [
    "# Задача 2.4"
   ]
  },
  {
   "cell_type": "code",
   "execution_count": 59,
   "id": "76c8bf12",
   "metadata": {},
   "outputs": [
    {
     "name": "stdout",
     "output_type": "stream",
     "text": [
      "Матрица:\n",
      "[1, 2]\n",
      "[3, 4]\n",
      "==============================\n",
      "Вектор:\n",
      "1\n",
      "2\n",
      "Вектор полученный после умножения:\n",
      "5\n",
      "11\n"
     ]
    }
   ],
   "source": [
    "def matrix_on_vec(matrix, vec):\n",
    "    res=[]\n",
    "    for i in range(len(matrix)):\n",
    "        row_sum=0\n",
    "        for j in range(len(matrix[i])):\n",
    "            row_sum+=matrix[i][j]*vec[j]\n",
    "        res.append(row_sum)\n",
    "    return res\n",
    "\n",
    "row, column = map(int, input(\"Введите размер матрицы, например '2 3': \").split())\n",
    "matrix = [[0] * column for _ in range(row)]\n",
    "vec = [0]*row\n",
    "for i in range(row):\n",
    "    for j in range(column):\n",
    "        matrix[i][j] = int(input(f\"Введите значение для индекса матрицы {i} {j}: \"))\n",
    "print(f\"Матрица:\")\n",
    "for i in range(len(matrix)):\n",
    "    print(matrix[i])\n",
    "print(\"=\"*30)\n",
    "for i in range(row):\n",
    "    vec[i] = int(input(f\"Введите значение для индекса Вектора {i}: \"))\n",
    "print(f\"Вектор:\")\n",
    "for i in range(len(vec)):\n",
    "    print(vec[i])\n",
    "fin_vec=matrix_on_vec(matrix, vec)\n",
    "print(f\"Вектор полученный после умножения:\")\n",
    "for i in range(len(fin_vec)):\n",
    "    print(fin_vec[i])\n",
    "\n"
   ]
  },
  {
   "cell_type": "markdown",
   "id": "3b054248",
   "metadata": {},
   "source": [
    "# Задача 2.5"
   ]
  },
  {
   "cell_type": "code",
   "execution_count": 4,
   "id": "70cdf61f",
   "metadata": {},
   "outputs": [
    {
     "name": "stdout",
     "output_type": "stream",
     "text": [
      "Массив до изменения:\n",
      " [27, 69, -10, -24, 47, -68, 80, 16, 74, -47]\n",
      "Массив после изменения:\n",
      " [27, 69, 58.0, 58.0, 47, 63.5, 80, 16, 74, 74]\n"
     ]
    }
   ],
   "source": [
    "import random\n",
    "arr = [random.randint(-100, 100) for _ in range(10)]\n",
    "res=[]\n",
    "print(\"Массив до изменения:\\n\", arr)\n",
    "def skip_ind(arr, ind):\n",
    "    arr_l = arr[:ind]\n",
    "    arr_l = arr_l[::-1]\n",
    "    arr_r = arr[ind+1:]\n",
    "    res1=0\n",
    "    res2=0\n",
    "\n",
    "    for i in range(len(arr_l)):\n",
    "        if arr_l[i]>0:\n",
    "            res1+=arr_l[i]\n",
    "            break\n",
    "\n",
    "    for i in range(len(arr_r)):\n",
    "        if arr_r[i]>0:\n",
    "            res2+=arr_r[i]\n",
    "            break\n",
    "\n",
    "    if res1==0 or res2==0:\n",
    "        return max(res1, res2)        \n",
    "\n",
    "    if res1+res2==0:\n",
    "        return arr[ind]\n",
    "\n",
    "    return (res1+res2)/2\n",
    "    \n",
    "\n",
    "\n",
    "if arr[0]<0:\n",
    "    for i in range(1, len(arr)-1):\n",
    "        if arr[i] >= 0:\n",
    "            res.append(arr[i])\n",
    "            break\n",
    "else:\n",
    "    res.append(arr[0])\n",
    "\n",
    "for i in range(1, len(arr)-1):\n",
    "    if arr[i]<0:\n",
    "        res.append(skip_ind(arr, i))\n",
    "    else:\n",
    "        res.append(arr[i])\n",
    "\n",
    "for i in range(-2, -len(arr), -1):\n",
    "    if arr[i]>0:\n",
    "        res.append(arr[i])\n",
    "        break\n",
    "print(\"Массив после изменения:\\n\", res)"
   ]
  },
  {
   "cell_type": "markdown",
   "id": "65642252",
   "metadata": {},
   "source": [
    "# Задача 2.6"
   ]
  },
  {
   "cell_type": "code",
   "execution_count": 5,
   "id": "9b0f2155",
   "metadata": {},
   "outputs": [
    {
     "name": "stdout",
     "output_type": "stream",
     "text": [
      "Введите значения для каждой ячейки массива:\n",
      "Ваш массив:\n",
      " [1, 4, 2, 3, 2]\n",
      "Вашо ядро:\n",
      " [1, 3, 2]\n",
      "Результат свёртки: \n",
      " [17, 16, 15]\n"
     ]
    }
   ],
   "source": [
    "size_arr = int(input(\"Введите размер массива: \"))\n",
    "res=[]\n",
    "print(\"Введите значения для каждой ячейки массива:\")\n",
    "arr = [int(input(f\"Для {i}го индекса: \")) for i in range(size_arr)]\n",
    "print(\"Ваш массив:\\n\", arr)\n",
    "kernel_size = int(input(\"Введите размер ядра (нечётное число): \"))\n",
    "kernel = [int(input(f\"Для {i}го индекса: \")) for i in range(kernel_size)]\n",
    "if len(kernel)%2!=1:\n",
    "    exit\n",
    "print(\"Вашо ядро:\\n\", kernel)\n",
    "\n",
    "for i in range(size_arr-kernel_size+1):\n",
    "    row_sum=0\n",
    "    for j in range(kernel_size):\n",
    "        row_sum+=arr[i+j]*kernel[j]\n",
    "    res.append(row_sum)\n",
    "print(\"Результат свёртки: \\n\", res)"
   ]
  }
 ],
 "metadata": {
  "kernelspec": {
   "display_name": "base",
   "language": "python",
   "name": "python3"
  },
  "language_info": {
   "codemirror_mode": {
    "name": "ipython",
    "version": 3
   },
   "file_extension": ".py",
   "mimetype": "text/x-python",
   "name": "python",
   "nbconvert_exporter": "python",
   "pygments_lexer": "ipython3",
   "version": "3.12.7"
  }
 },
 "nbformat": 4,
 "nbformat_minor": 5
}
