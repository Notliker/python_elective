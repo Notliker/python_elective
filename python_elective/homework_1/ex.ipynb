{
 "cells": [
  {
   "cell_type": "markdown",
   "id": "e76bbf89",
   "metadata": {},
   "source": [
    "# Задача 1.1"
   ]
  },
  {
   "cell_type": "code",
   "execution_count": null,
   "id": "bf985f09",
   "metadata": {},
   "outputs": [
    {
     "name": "stdout",
     "output_type": "stream",
     "text": [
      "Sum of two numbers: 5\n",
      "Sum of two numbers: 58\n",
      "Sum of two numbers: 367\n",
      "Sum of two numbers: -108\n",
      "Sum of two numbers: 0\n"
     ]
    }
   ],
   "source": [
    "while True:\n",
    "    a = int(input())\n",
    "    b = int(input())\n",
    "    print(f\"Sum of two numbers: {a+b}\")"
   ]
  },
  {
   "cell_type": "markdown",
   "id": "32d4b71c",
   "metadata": {},
   "source": [
    "# Задача 1.2"
   ]
  },
  {
   "cell_type": "code",
   "execution_count": 5,
   "id": "5d471375",
   "metadata": {},
   "outputs": [
    {
     "name": "stdout",
     "output_type": "stream",
     "text": [
      "* 1 * 2 *\n",
      "3 * 4 * 5\n",
      "* 6 * 7 *\n",
      "8 * 9 * 10\n",
      "* 11 * 12 *\n"
     ]
    }
   ],
   "source": [
    "const = 1\n",
    "star = True\n",
    "res = [[0 for j in range(5)] for i in range(5)]\n",
    "\n",
    "for i in range(5):\n",
    "    for j in range(5):\n",
    "        if star==True:\n",
    "            res[i][j]='*'\n",
    "            star = False\n",
    "        else:\n",
    "            res[i][j]=const\n",
    "            const+=1\n",
    "            star=True\n",
    "for i in res:\n",
    "    print(*i)"
   ]
  },
  {
   "cell_type": "markdown",
   "id": "a60eab3f",
   "metadata": {},
   "source": [
    "# Задача 1.3"
   ]
  },
  {
   "cell_type": "code",
   "execution_count": null,
   "id": "675f2a6c",
   "metadata": {},
   "outputs": [
    {
     "name": "stdout",
     "output_type": "stream",
     "text": [
      "Congratulations!\n"
     ]
    }
   ],
   "source": [
    "num = int(input())\n",
    "l = int(input())\n",
    "r = int(input())\n",
    "\n",
    "while l <= r:\n",
    "    mid = (l + r) // 2\n",
    "    answer = input(f\"Число равно {mid}?\")\n",
    "    \n",
    "    if answer == 'да':\n",
    "        print('Поздравляю!')\n",
    "        break\n",
    "    else:\n",
    "        s = input(f\"Число меньше {mid}?\")\n",
    "        if s == 'да':\n",
    "            r = mid - 1\n",
    "        else:\n",
    "            l = mid + 1\n",
    "else:\n",
    "    print(\"Число не входит в диапазон\")"
   ]
  },
  {
   "cell_type": "markdown",
   "id": "e0d3f93d",
   "metadata": {},
   "source": [
    "# Задача 1.4"
   ]
  },
  {
   "cell_type": "code",
   "execution_count": 14,
   "id": "9b1b7380",
   "metadata": {},
   "outputs": [
    {
     "name": "stdout",
     "output_type": "stream",
     "text": [
      "5\n"
     ]
    }
   ],
   "source": [
    "nums = []\n",
    "while True:\n",
    "    nums.append(int(input()))\n",
    "    if 0 in nums:\n",
    "        break\n",
    "print(max(nums))"
   ]
  },
  {
   "cell_type": "markdown",
   "id": "93cfb747",
   "metadata": {},
   "source": [
    "# Задача 1.5"
   ]
  },
  {
   "cell_type": "code",
   "execution_count": 18,
   "id": "3083b96e",
   "metadata": {},
   "outputs": [
    {
     "name": "stdout",
     "output_type": "stream",
     "text": [
      "1 2 3 4 5 6 7 8 9\n",
      "2 4 6 8 10 12 14 16 18\n",
      "3 6 9 12 15 18 21 24 27\n",
      "4 8 12 16 20 24 28 32 36\n",
      "5 10 15 20 25 30 35 40 45\n",
      "6 12 18 24 30 36 42 48 54\n",
      "7 14 21 28 35 42 49 56 63\n",
      "8 16 24 32 40 48 56 64 72\n",
      "9 18 27 36 45 54 63 72 81\n"
     ]
    }
   ],
   "source": [
    "res = [[i*j for j in range(1, 10)] for i in range(1, 10)]\n",
    "for stroka in res:\n",
    "    print(*stroka)\n"
   ]
  },
  {
   "cell_type": "markdown",
   "id": "2dd4e73f",
   "metadata": {},
   "source": [
    "# Задача 2.1"
   ]
  },
  {
   "cell_type": "code",
   "execution_count": 23,
   "id": "d07393f6",
   "metadata": {},
   "outputs": [
    {
     "name": "stdout",
     "output_type": "stream",
     "text": [
      "34 12 49 44 1 41 12 41 28 40 25 7 2 49 46 37 24 15 19\n",
      "Maximum: 49 \n",
      " Minimum: 1 \n",
      " Median: 40\n"
     ]
    }
   ],
   "source": [
    "import random\n",
    "arr = [random.randint(0, 50) for _ in range(random.randint(0, 20))]\n",
    "minim = min(arr)\n",
    "maxim = max(arr)\n",
    "s_arr = sorted(arr)\n",
    "if len(arr)%2==0:\n",
    "    median = (arr[len(arr)//2]+arr[len(arr)//2-1])/2\n",
    "else:\n",
    "    median = arr[len(arr)//2]\n",
    "print(*arr)\n",
    "print(f\"Maximum: {maxim} \\n Minimum: {minim} \\n Median: {median}\")"
   ]
  },
  {
   "cell_type": "markdown",
   "id": "a83a3687",
   "metadata": {},
   "source": [
    "# Задача 2.2"
   ]
  },
  {
   "cell_type": "code",
   "execution_count": null,
   "id": "6971af55",
   "metadata": {},
   "outputs": [],
   "source": []
  },
  {
   "cell_type": "markdown",
   "id": "0244589f",
   "metadata": {},
   "source": [
    "# Задача 2.3"
   ]
  },
  {
   "cell_type": "code",
   "execution_count": 33,
   "id": "eec34aa0",
   "metadata": {},
   "outputs": [
    {
     "name": "stdout",
     "output_type": "stream",
     "text": [
      "Вектор 1: \n",
      " [-1, -4, 2, 8, 4]\n",
      "Вектор 2: \n",
      " [6, 10, -1, -8, -4]\n",
      "Покомпонентная сумма: \n",
      " [5, 6, 1, 0, 0]\n",
      "Покомпонентное умножение: \n",
      " [-6, -40, -2, -64, -16]\n",
      "У вектора 2 бОльшая норма\n",
      "Результат умножения на скаляр:\n",
      " [12, 20, -2, -16, -8]\n"
     ]
    }
   ],
   "source": [
    "import random\n",
    "\n",
    "def vec_norm(vec):\n",
    "    res = []\n",
    "    for elem in vec:\n",
    "        res.append(elem**2)\n",
    "    return sum(res)**(1/2)\n",
    "\n",
    "N = int(input(\"Введите размерность векторов: \"))\n",
    "\n",
    "vec1 = [random.randint(-10, 10) for _ in range(N)]\n",
    "vec2 = [random.randint(-10, 10) for _ in range(N)]\n",
    "print(\"Вектор 1: \\n\",vec1)\n",
    "print(\"Вектор 2: \\n\",vec2)\n",
    "sum_vec = [0]*N\n",
    "mul_vec = sum_vec.copy()\n",
    "for i in range(N):\n",
    "    sum_vec[i]=vec1[i]+vec2[i]\n",
    "    mul_vec[i]=vec1[i]*vec2[i]\n",
    "print(\"Покомпонентная сумма: \\n\", sum_vec)\n",
    "print(\"Покомпонентное умножение: \\n\", mul_vec)\n",
    "vec1_n = vec_norm(vec1)\n",
    "vec2_n = vec_norm(vec2)\n",
    "if vec1_n > vec1_n:\n",
    "    m_vec = vec1\n",
    "    print(\"У вектора 1 бОльшая норма\")\n",
    "else:\n",
    "    m_vec = vec2\n",
    "    print(\"У вектора 2 бОльшая норма\")\n",
    "scalar = int(input(\"Введите скаляр для умножения: \"))\n",
    "\n",
    "for i in range(N):\n",
    "    m_vec[i]*=scalar\n",
    "print(\"Результат умножения на скаляр:\\n\", m_vec)"
   ]
  },
  {
   "cell_type": "markdown",
   "id": "e169188b",
   "metadata": {},
   "source": [
    "# Задача 2.4"
   ]
  },
  {
   "cell_type": "code",
   "execution_count": 59,
   "id": "76c8bf12",
   "metadata": {},
   "outputs": [
    {
     "name": "stdout",
     "output_type": "stream",
     "text": [
      "Матрица:\n",
      "[1, 2]\n",
      "[3, 4]\n",
      "==============================\n",
      "Вектор:\n",
      "1\n",
      "2\n",
      "Вектор полученный после умножения:\n",
      "5\n",
      "11\n"
     ]
    }
   ],
   "source": [
    "def matrix_on_vec(matrix, vec):\n",
    "    res=[]\n",
    "    for i in range(len(matrix)):\n",
    "        row_sum=0\n",
    "        for j in range(len(matrix[i])):\n",
    "            row_sum+=matrix[i][j]*vec[j]\n",
    "        res.append(row_sum)\n",
    "    return res\n",
    "\n",
    "row, column = map(int, input(\"Введите размер матрицы, например '2 3': \").split())\n",
    "matrix = [[0] * column for _ in range(row)]\n",
    "vec = [0]*row\n",
    "for i in range(row):\n",
    "    for j in range(column):\n",
    "        matrix[i][j] = int(input(f\"Введите значение для индекса матрицы {i} {j}: \"))\n",
    "print(f\"Матрица:\")\n",
    "for i in range(len(matrix)):\n",
    "    print(matrix[i])\n",
    "print(\"=\"*30)\n",
    "for i in range(row):\n",
    "    vec[i] = int(input(f\"Введите значение для индекса Вектора {i}: \"))\n",
    "print(f\"Вектор:\")\n",
    "for i in range(len(vec)):\n",
    "    print(vec[i])\n",
    "fin_vec=matrix_on_vec(matrix, vec)\n",
    "print(f\"Вектор полученный после умножения:\")\n",
    "for i in range(len(fin_vec)):\n",
    "    print(fin_vec[i])\n",
    "\n"
   ]
  }
 ],
 "metadata": {
  "kernelspec": {
   "display_name": "base",
   "language": "python",
   "name": "python3"
  },
  "language_info": {
   "codemirror_mode": {
    "name": "ipython",
    "version": 3
   },
   "file_extension": ".py",
   "mimetype": "text/x-python",
   "name": "python",
   "nbconvert_exporter": "python",
   "pygments_lexer": "ipython3",
   "version": "3.12.7"
  }
 },
 "nbformat": 4,
 "nbformat_minor": 5
}
