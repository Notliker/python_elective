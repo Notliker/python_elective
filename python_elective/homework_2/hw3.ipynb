{
 "cells": [
  {
   "cell_type": "markdown",
   "id": "8b745d28",
   "metadata": {},
   "source": [
    "# Задача 1"
   ]
  },
  {
   "cell_type": "code",
   "execution_count": 7,
   "id": "b38cb9da",
   "metadata": {},
   "outputs": [
    {
     "name": "stdout",
     "output_type": "stream",
     "text": [
      "2 3 4 5 6 7 8 9 10\n",
      "3 4 5 6 7 8 9 10 11\n",
      "4 5 6 7 8 9 10 11 12\n",
      "5 6 7 8 9 10 11 12 13\n",
      "6 7 8 9 10 11 12 13 14\n",
      "7 8 9 10 11 12 13 14 15\n",
      "8 9 10 11 12 13 14 15 16\n",
      "9 10 11 12 13 14 15 16 17\n",
      "10 11 12 13 14 15 16 17 18\n"
     ]
    }
   ],
   "source": [
    "def mul_table():\n",
    "    res = [[i*j for j in range(1, 10)] for i in range(1, 10)]\n",
    "    for stroka in res:\n",
    "        print(*stroka)\n",
    "\n",
    "def sub_table():\n",
    "    res = [[i-j for j in range(1, 10)] for i in range(1, 10)]\n",
    "    for stroka in res:\n",
    "        print(*stroka)\n",
    "\n",
    "def sum_table():\n",
    "    res = [[i+j for j in range(1, 10)] for i in range(1, 10)]\n",
    "    for stroka in res:\n",
    "        print(*stroka)\n",
    "\n",
    "def div_table():\n",
    "    res = [[round(i/j, 2) for j in range(1, 10)] for i in range(1, 10)]\n",
    "    for stroka in res:\n",
    "        print(*stroka)\n",
    "\n",
    "def select_method(user_ans):\n",
    "    if user_ans.strip()=='+':\n",
    "        sum_table()\n",
    "    elif user_ans.strip()=='*':\n",
    "        mul_table()\n",
    "    elif user_ans.strip()=='-':\n",
    "        sub_table()\n",
    "    elif user_ans.strip()=='/':\n",
    "        div_table()\n",
    "select_method(input())"
   ]
  },
  {
   "cell_type": "markdown",
   "id": "c1a64bf7",
   "metadata": {},
   "source": [
    "# Задача 2"
   ]
  },
  {
   "cell_type": "code",
   "execution_count": null,
   "id": "b34f7f48",
   "metadata": {},
   "outputs": [
    {
     "name": "stdout",
     "output_type": "stream",
     "text": [
      "[0.49411802113304115, 0.34943876164408416, 0.22689830199356953, 0.9005770217158668, 0.5170897305888873, 0.9105006292400806, 0.2420318701486367, 0.7675452814537231, 0.5083838298965493]\n",
      "====================================================================================================\n",
      "[[0.7428303179241633, 0.6870395755204793, 0.5981190054466041], [0.8633600375247895, 0.9125780171844402, 0.4260964466696736]]\n",
      "====================================================================================================\n",
      "[0.7428303179241633, 0.6870395755204793, 0.5981190054466041]\n",
      "[0.8633600375247895, 0.9125780171844402, 0.4260964466696736]\n",
      "====================================================================================================\n",
      "0.45891317200151005\n",
      "0.23682284200878312\n",
      "====================================================================================================\n",
      "[[0.2955741292789519, 0.4546467777471127], [0.6744348582864709, 0.6239321544180554]]\n",
      "0.9195062836970073\n",
      "====================================================================================================\n",
      "[[4, 3, 4], [2, 4, 3], [2, 3, 4]]\n"
     ]
    }
   ],
   "source": [
    "import random\n",
    "\n",
    "def create_vector(n):\n",
    "    vec = [random.random() for _ in range(n)]\n",
    "    return vec\n",
    "\n",
    "print(create_vector(9))\n",
    "print(\"=\"*100)\n",
    "\n",
    "def create_matrix(m, n):\n",
    "    matrix = [[random.random() for _ in range(n)] for i in range(m)]\n",
    "    return matrix\n",
    "\n",
    "mx = create_matrix(2, 3)\n",
    "print(mx)\n",
    "print(\"=\"*100)\n",
    "\n",
    "def matrix_on_vec(matrix, vec):\n",
    "    res=[]\n",
    "    for i in range(len(matrix)):\n",
    "        row_sum=0\n",
    "        for j in range(len(matrix[i])):\n",
    "            row_sum+=matrix[i][j]*vec[j]\n",
    "        res.append(row_sum)\n",
    "    return res\n",
    "\n",
    "def print_matrix(matrix):\n",
    "    for i in range(len(matrix)):\n",
    "        print(matrix[i])\n",
    "\n",
    "print_matrix(mx)\n",
    "print(\"=\"*100)\n",
    "\n",
    "def print_vector(vec):\n",
    "    for i in range(len(vec)):\n",
    "        print(vec[i])\n",
    "\n",
    "print_vector(create_vector(2))\n",
    "print(\"=\"*100)\n",
    "\n",
    "def sum_diagonal(matrix):\n",
    "    res=0\n",
    "    for i in range(len(matrix)):\n",
    "        res+=matrix[i][i]\n",
    "    return res\n",
    "mx1=create_matrix(2,2)\n",
    "print(mx1)\n",
    "print(sum_diagonal(mx1))\n",
    "print(\"=\"*100)\n",
    "\n",
    "def convolution(matrix, kernel):\n",
    "    res=[]\n",
    "    for row in range(len(matrix)-len(kernel)+1):\n",
    "        res.append([])\n",
    "        for column in range(len(matrix[0])-len(kernel[0])+1):\n",
    "            rows=0\n",
    "            for row_kernel in range(len(kernel)):\n",
    "                for column_kernel in range(len(kernel[0])):\n",
    "                    rows+=matrix[row+row_kernel][column+column_kernel]*kernel[row_kernel][column_kernel]\n",
    "            res[row].append(rows)\n",
    "    return res\n",
    "\n",
    "matrix = [\n",
    "    [1,1,1,0,0],\n",
    "    [0,1,1,1,0],\n",
    "    [0,0,1,1,1],\n",
    "    [0,0,1,1,0],\n",
    "    [0,1,1,0,0]\n",
    "]\n",
    "kernel = [\n",
    "    [1,0,1],\n",
    "    [0,1,0],\n",
    "    [1,0,1]\n",
    "]\n",
    "\n",
    "print(convolution(matrix, kernel))"
   ]
  },
  {
   "cell_type": "markdown",
   "id": "6ebdeb73",
   "metadata": {},
   "source": [
    "# Задача 3"
   ]
  },
  {
   "cell_type": "code",
   "execution_count": null,
   "id": "ebb17722",
   "metadata": {},
   "outputs": [],
   "source": [
    "def convol(func):\n",
    "    def wrapper(image, kernel):\n",
    "        channel_results = []\n",
    "        for i in range(3):\n",
    "            matrix = []\n",
    "            for row in range(len(image)):\n",
    "                matrix.append([])\n",
    "                for column in range(len(image)):\n",
    "                    matrix[row].append(image[row][column][i])\n",
    "            res = func(matrix, kernel)\n",
    "            channel_results.append(res)\n",
    "\n",
    "        H = len(channel_results)\n",
    "        W = len(channel_results)\n",
    "        merged = []\n",
    "        for row in range(H):\n",
    "            merged.append([])\n",
    "            for column in range(W):\n",
    "                merged[row].append([\n",
    "                    channel_results[row][column],\n",
    "                    channel_results[4][row][column],\n",
    "                    channel_results[5][row][column],\n",
    "                ])\n",
    "        return merged\n",
    "    return wrapper\n"
   ]
  },
  {
   "cell_type": "markdown",
   "id": "238b6b54",
   "metadata": {},
   "source": [
    "# Задача 4"
   ]
  },
  {
   "cell_type": "code",
   "execution_count": null,
   "id": "b3a7e642",
   "metadata": {},
   "outputs": [],
   "source": [
    "def matrix_on_vec(matrix, vec):\n",
    "    res=[]\n",
    "    for i in range(len(matrix)):\n",
    "        row_sum=0\n",
    "        for j in range(len(matrix[i])):\n",
    "            row_sum+=matrix[i][j]*vec[j]\n",
    "        res.append(row_sum)\n",
    "    return res\n",
    "\n",
    "def convert_color(vector):\n",
    "    rgb_to_yiq = [[0.299, 0.587, 0.114], [0.5959, -0.2746, -0.3213], [0.2115, -0.5227, 0.3112]]\n",
    "    yiq_to_rgb = [[1, 0.956, 0.619], [1, -0.272, -0.647], [1, -1.106, 1.703]]\n",
    "    color, mode = vector[:3], vector[3]\n",
    "    if mode == 0:  \n",
    "        result = matrix_on_vec(rgb_to_yiq, color)\n",
    "        return list(result) + [1]\n",
    "    else:       \n",
    "        result = matrix_on_vec(yiq_to_rgb, color)\n",
    "        return list(result) + [0]\n"
   ]
  }
 ],
 "metadata": {
  "kernelspec": {
   "display_name": "base",
   "language": "python",
   "name": "python3"
  },
  "language_info": {
   "codemirror_mode": {
    "name": "ipython",
    "version": 3
   },
   "file_extension": ".py",
   "mimetype": "text/x-python",
   "name": "python",
   "nbconvert_exporter": "python",
   "pygments_lexer": "ipython3",
   "version": "3.12.7"
  }
 },
 "nbformat": 4,
 "nbformat_minor": 5
}
